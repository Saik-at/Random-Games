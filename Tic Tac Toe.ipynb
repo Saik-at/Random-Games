{
 "cells": [
  {
   "cell_type": "code",
   "execution_count": null,
   "id": "a0a1e880",
   "metadata": {},
   "outputs": [],
   "source": [
    "for k in range(10000):\n",
    "     list=[1,2,3,4,5,6,7,8,9]\n",
    "     print(list[:3])\n",
    "     print(list[3:6])\n",
    "     print(list[6:])\n",
    "     flag=0\n",
    "     for i in range(1,10):\n",
    "         print(\" \")\n",
    "         if(i%2!=0):\n",
    "             l=int(input(\"Player 1 insert position where you want to insert\"))\n",
    "             print(\" \")\n",
    "             list[l-1]=\"X\"\n",
    "         else:\n",
    "             l=int(input(\"Player 2 insert position where you want to insert\"))\n",
    "             print(\" \")\n",
    "             list[l-1]=\"O\"\n",
    "         print(list[:3])\n",
    "         print(list[3:6])\n",
    "         print(list[6:])\n",
    "         if(((list[0]==list[1]) and (list[1]==list[2])) or ((list[3]==list[4]) and (list[4]==list[5])) or ((list[6]==list[7]) and (list[7]==list[8])) or ((list[0]==list[4]) and (list[4]==list[8])) or ((list[6]==list[4]) and (list[4]==list[2])) or ((list[0]==list[3]) and (list[3]==list[6])) or ((list[4]==list[1]) and (list[1]==list[7])) or ((list[8]==list[5]) and (list[5]==list[2]))):\n",
    "             if(i%2!=0):\n",
    "                 print(\" \")\n",
    "                 print(\"Player 1 won\")\n",
    "                 flag=1\n",
    "                 break\n",
    "             else:\n",
    "                 print(\" \")\n",
    "                 print(\"Player 2 won\")\n",
    "                 flag=1\n",
    "                 break\n",
    "     if(i==9 and flag==0):\n",
    "         print(\" \")\n",
    "         print(\"Draw\")\n",
    "     ch=int(input(\"Enter 1 if you want to continue playing, else enter 0\"))\n",
    "     if(ch==0):\n",
    "            break\n",
    "     else:\n",
    "        \n",
    "        continue"
   ]
  },
  {
   "cell_type": "code",
   "execution_count": null,
   "id": "76bc6928",
   "metadata": {},
   "outputs": [],
   "source": []
  }
 ],
 "metadata": {
  "kernelspec": {
   "display_name": "Python 3",
   "language": "python",
   "name": "python3"
  },
  "language_info": {
   "codemirror_mode": {
    "name": "ipython",
    "version": 3
   },
   "file_extension": ".py",
   "mimetype": "text/x-python",
   "name": "python",
   "nbconvert_exporter": "python",
   "pygments_lexer": "ipython3",
   "version": "3.8.8"
  }
 },
 "nbformat": 4,
 "nbformat_minor": 5
}
